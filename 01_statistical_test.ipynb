{
 "cells": [
  {
   "cell_type": "markdown",
   "id": "59fed792",
   "metadata": {},
   "source": [
    "# Statistical Analysis\n"
   ]
  },
  {
   "cell_type": "markdown",
   "id": "0e2f1d79",
   "metadata": {},
   "source": [
    "## 1. Chi-square Test\n",
    "The chi-Square test give information just for categorical variables. Its main fuction to check the difference between the categorical values on the basis of columns uding **\"Contingency table\"**. \n",
    "The `CONTINGENCY TABLE` give information relationship between the categorical variables. \n",
    "So we not to check the normal distribution and not the data distribution."
   ]
  },
  {
   "cell_type": "markdown",
   "id": "d8870fa8",
   "metadata": {},
   "source": [
    "#### import libraries"
   ]
  },
  {
   "cell_type": "code",
   "execution_count": 1,
   "id": "a6f69da7",
   "metadata": {},
   "outputs": [],
   "source": [
    "import pandas as pd\n",
    "import numpy as np\n",
    "import seaborn as sns\n",
    "import scipy as stats\n",
    "import matplotlib as plt"
   ]
  },
  {
   "cell_type": "markdown",
   "id": "466455d1",
   "metadata": {},
   "source": [
    "### Load the titanic dataset"
   ]
  },
  {
   "cell_type": "code",
   "execution_count": 2,
   "id": "3a0dccb1",
   "metadata": {},
   "outputs": [
    {
     "data": {
      "text/html": [
       "<div>\n",
       "<style scoped>\n",
       "    .dataframe tbody tr th:only-of-type {\n",
       "        vertical-align: middle;\n",
       "    }\n",
       "\n",
       "    .dataframe tbody tr th {\n",
       "        vertical-align: top;\n",
       "    }\n",
       "\n",
       "    .dataframe thead th {\n",
       "        text-align: right;\n",
       "    }\n",
       "</style>\n",
       "<table border=\"1\" class=\"dataframe\">\n",
       "  <thead>\n",
       "    <tr style=\"text-align: right;\">\n",
       "      <th></th>\n",
       "      <th>survived</th>\n",
       "      <th>pclass</th>\n",
       "      <th>sex</th>\n",
       "      <th>age</th>\n",
       "      <th>sibsp</th>\n",
       "      <th>parch</th>\n",
       "      <th>fare</th>\n",
       "      <th>embarked</th>\n",
       "      <th>class</th>\n",
       "      <th>who</th>\n",
       "      <th>adult_male</th>\n",
       "      <th>deck</th>\n",
       "      <th>embark_town</th>\n",
       "      <th>alive</th>\n",
       "      <th>alone</th>\n",
       "    </tr>\n",
       "  </thead>\n",
       "  <tbody>\n",
       "    <tr>\n",
       "      <th>0</th>\n",
       "      <td>0</td>\n",
       "      <td>3</td>\n",
       "      <td>male</td>\n",
       "      <td>22.0</td>\n",
       "      <td>1</td>\n",
       "      <td>0</td>\n",
       "      <td>7.2500</td>\n",
       "      <td>S</td>\n",
       "      <td>Third</td>\n",
       "      <td>man</td>\n",
       "      <td>True</td>\n",
       "      <td>NaN</td>\n",
       "      <td>Southampton</td>\n",
       "      <td>no</td>\n",
       "      <td>False</td>\n",
       "    </tr>\n",
       "    <tr>\n",
       "      <th>1</th>\n",
       "      <td>1</td>\n",
       "      <td>1</td>\n",
       "      <td>female</td>\n",
       "      <td>38.0</td>\n",
       "      <td>1</td>\n",
       "      <td>0</td>\n",
       "      <td>71.2833</td>\n",
       "      <td>C</td>\n",
       "      <td>First</td>\n",
       "      <td>woman</td>\n",
       "      <td>False</td>\n",
       "      <td>C</td>\n",
       "      <td>Cherbourg</td>\n",
       "      <td>yes</td>\n",
       "      <td>False</td>\n",
       "    </tr>\n",
       "    <tr>\n",
       "      <th>2</th>\n",
       "      <td>1</td>\n",
       "      <td>3</td>\n",
       "      <td>female</td>\n",
       "      <td>26.0</td>\n",
       "      <td>0</td>\n",
       "      <td>0</td>\n",
       "      <td>7.9250</td>\n",
       "      <td>S</td>\n",
       "      <td>Third</td>\n",
       "      <td>woman</td>\n",
       "      <td>False</td>\n",
       "      <td>NaN</td>\n",
       "      <td>Southampton</td>\n",
       "      <td>yes</td>\n",
       "      <td>True</td>\n",
       "    </tr>\n",
       "    <tr>\n",
       "      <th>3</th>\n",
       "      <td>1</td>\n",
       "      <td>1</td>\n",
       "      <td>female</td>\n",
       "      <td>35.0</td>\n",
       "      <td>1</td>\n",
       "      <td>0</td>\n",
       "      <td>53.1000</td>\n",
       "      <td>S</td>\n",
       "      <td>First</td>\n",
       "      <td>woman</td>\n",
       "      <td>False</td>\n",
       "      <td>C</td>\n",
       "      <td>Southampton</td>\n",
       "      <td>yes</td>\n",
       "      <td>False</td>\n",
       "    </tr>\n",
       "    <tr>\n",
       "      <th>4</th>\n",
       "      <td>0</td>\n",
       "      <td>3</td>\n",
       "      <td>male</td>\n",
       "      <td>35.0</td>\n",
       "      <td>0</td>\n",
       "      <td>0</td>\n",
       "      <td>8.0500</td>\n",
       "      <td>S</td>\n",
       "      <td>Third</td>\n",
       "      <td>man</td>\n",
       "      <td>True</td>\n",
       "      <td>NaN</td>\n",
       "      <td>Southampton</td>\n",
       "      <td>no</td>\n",
       "      <td>True</td>\n",
       "    </tr>\n",
       "    <tr>\n",
       "      <th>...</th>\n",
       "      <td>...</td>\n",
       "      <td>...</td>\n",
       "      <td>...</td>\n",
       "      <td>...</td>\n",
       "      <td>...</td>\n",
       "      <td>...</td>\n",
       "      <td>...</td>\n",
       "      <td>...</td>\n",
       "      <td>...</td>\n",
       "      <td>...</td>\n",
       "      <td>...</td>\n",
       "      <td>...</td>\n",
       "      <td>...</td>\n",
       "      <td>...</td>\n",
       "      <td>...</td>\n",
       "    </tr>\n",
       "    <tr>\n",
       "      <th>886</th>\n",
       "      <td>0</td>\n",
       "      <td>2</td>\n",
       "      <td>male</td>\n",
       "      <td>27.0</td>\n",
       "      <td>0</td>\n",
       "      <td>0</td>\n",
       "      <td>13.0000</td>\n",
       "      <td>S</td>\n",
       "      <td>Second</td>\n",
       "      <td>man</td>\n",
       "      <td>True</td>\n",
       "      <td>NaN</td>\n",
       "      <td>Southampton</td>\n",
       "      <td>no</td>\n",
       "      <td>True</td>\n",
       "    </tr>\n",
       "    <tr>\n",
       "      <th>887</th>\n",
       "      <td>1</td>\n",
       "      <td>1</td>\n",
       "      <td>female</td>\n",
       "      <td>19.0</td>\n",
       "      <td>0</td>\n",
       "      <td>0</td>\n",
       "      <td>30.0000</td>\n",
       "      <td>S</td>\n",
       "      <td>First</td>\n",
       "      <td>woman</td>\n",
       "      <td>False</td>\n",
       "      <td>B</td>\n",
       "      <td>Southampton</td>\n",
       "      <td>yes</td>\n",
       "      <td>True</td>\n",
       "    </tr>\n",
       "    <tr>\n",
       "      <th>888</th>\n",
       "      <td>0</td>\n",
       "      <td>3</td>\n",
       "      <td>female</td>\n",
       "      <td>NaN</td>\n",
       "      <td>1</td>\n",
       "      <td>2</td>\n",
       "      <td>23.4500</td>\n",
       "      <td>S</td>\n",
       "      <td>Third</td>\n",
       "      <td>woman</td>\n",
       "      <td>False</td>\n",
       "      <td>NaN</td>\n",
       "      <td>Southampton</td>\n",
       "      <td>no</td>\n",
       "      <td>False</td>\n",
       "    </tr>\n",
       "    <tr>\n",
       "      <th>889</th>\n",
       "      <td>1</td>\n",
       "      <td>1</td>\n",
       "      <td>male</td>\n",
       "      <td>26.0</td>\n",
       "      <td>0</td>\n",
       "      <td>0</td>\n",
       "      <td>30.0000</td>\n",
       "      <td>C</td>\n",
       "      <td>First</td>\n",
       "      <td>man</td>\n",
       "      <td>True</td>\n",
       "      <td>C</td>\n",
       "      <td>Cherbourg</td>\n",
       "      <td>yes</td>\n",
       "      <td>True</td>\n",
       "    </tr>\n",
       "    <tr>\n",
       "      <th>890</th>\n",
       "      <td>0</td>\n",
       "      <td>3</td>\n",
       "      <td>male</td>\n",
       "      <td>32.0</td>\n",
       "      <td>0</td>\n",
       "      <td>0</td>\n",
       "      <td>7.7500</td>\n",
       "      <td>Q</td>\n",
       "      <td>Third</td>\n",
       "      <td>man</td>\n",
       "      <td>True</td>\n",
       "      <td>NaN</td>\n",
       "      <td>Queenstown</td>\n",
       "      <td>no</td>\n",
       "      <td>True</td>\n",
       "    </tr>\n",
       "  </tbody>\n",
       "</table>\n",
       "<p>891 rows × 15 columns</p>\n",
       "</div>"
      ],
      "text/plain": [
       "     survived  pclass     sex   age  sibsp  parch     fare embarked   class  \\\n",
       "0           0       3    male  22.0      1      0   7.2500        S   Third   \n",
       "1           1       1  female  38.0      1      0  71.2833        C   First   \n",
       "2           1       3  female  26.0      0      0   7.9250        S   Third   \n",
       "3           1       1  female  35.0      1      0  53.1000        S   First   \n",
       "4           0       3    male  35.0      0      0   8.0500        S   Third   \n",
       "..        ...     ...     ...   ...    ...    ...      ...      ...     ...   \n",
       "886         0       2    male  27.0      0      0  13.0000        S  Second   \n",
       "887         1       1  female  19.0      0      0  30.0000        S   First   \n",
       "888         0       3  female   NaN      1      2  23.4500        S   Third   \n",
       "889         1       1    male  26.0      0      0  30.0000        C   First   \n",
       "890         0       3    male  32.0      0      0   7.7500        Q   Third   \n",
       "\n",
       "       who  adult_male deck  embark_town alive  alone  \n",
       "0      man        True  NaN  Southampton    no  False  \n",
       "1    woman       False    C    Cherbourg   yes  False  \n",
       "2    woman       False  NaN  Southampton   yes   True  \n",
       "3    woman       False    C  Southampton   yes  False  \n",
       "4      man        True  NaN  Southampton    no   True  \n",
       "..     ...         ...  ...          ...   ...    ...  \n",
       "886    man        True  NaN  Southampton    no   True  \n",
       "887  woman       False    B  Southampton   yes   True  \n",
       "888  woman       False  NaN  Southampton    no  False  \n",
       "889    man        True    C    Cherbourg   yes   True  \n",
       "890    man        True  NaN   Queenstown    no   True  \n",
       "\n",
       "[891 rows x 15 columns]"
      ]
     },
     "execution_count": 2,
     "metadata": {},
     "output_type": "execute_result"
    }
   ],
   "source": [
    "df = sns.load_dataset(\"titanic\")\n",
    "df"
   ]
  },
  {
   "cell_type": "markdown",
   "id": "f6cb2d4f",
   "metadata": {},
   "source": [
    "`Null Hypothesis:` There is no significant association between gender (sex) and survival ('survived') on the titanic,. This means any observed differences in survival rates between genders in the dataset are due to chance and not due to an underlying relationship"
   ]
  },
  {
   "cell_type": "markdown",
   "id": "1f22861f",
   "metadata": {},
   "source": [
    "`Alternative Hypothesis:` There is a significant association between gender ('sex') and survival ('survived') on the titanic,. This means any observed differences in survival rates between genders in the dataset are due to chance and not due to an underlying relationship"
   ]
  },
  {
   "cell_type": "markdown",
   "id": "2c57a2f1",
   "metadata": {},
   "source": [
    "### Create a Contingency table"
   ]
  },
  {
   "cell_type": "code",
   "execution_count": 3,
   "id": "91d78d45",
   "metadata": {},
   "outputs": [
    {
     "data": {
      "text/html": [
       "<div>\n",
       "<style scoped>\n",
       "    .dataframe tbody tr th:only-of-type {\n",
       "        vertical-align: middle;\n",
       "    }\n",
       "\n",
       "    .dataframe tbody tr th {\n",
       "        vertical-align: top;\n",
       "    }\n",
       "\n",
       "    .dataframe thead th {\n",
       "        text-align: right;\n",
       "    }\n",
       "</style>\n",
       "<table border=\"1\" class=\"dataframe\">\n",
       "  <thead>\n",
       "    <tr style=\"text-align: right;\">\n",
       "      <th>survived</th>\n",
       "      <th>0</th>\n",
       "      <th>1</th>\n",
       "    </tr>\n",
       "    <tr>\n",
       "      <th>sex</th>\n",
       "      <th></th>\n",
       "      <th></th>\n",
       "    </tr>\n",
       "  </thead>\n",
       "  <tbody>\n",
       "    <tr>\n",
       "      <th>female</th>\n",
       "      <td>81</td>\n",
       "      <td>233</td>\n",
       "    </tr>\n",
       "    <tr>\n",
       "      <th>male</th>\n",
       "      <td>468</td>\n",
       "      <td>109</td>\n",
       "    </tr>\n",
       "  </tbody>\n",
       "</table>\n",
       "</div>"
      ],
      "text/plain": [
       "survived    0    1\n",
       "sex               \n",
       "female     81  233\n",
       "male      468  109"
      ]
     },
     "execution_count": 3,
     "metadata": {},
     "output_type": "execute_result"
    }
   ],
   "source": [
    "contingency_table = pd.crosstab(df['sex'], df['survived'])\n",
    "contingency_table"
   ]
  },
  {
   "cell_type": "markdown",
   "id": "657e7b26",
   "metadata": {},
   "source": [
    "###     perform chi-square test"
   ]
  },
  {
   "cell_type": "code",
   "execution_count": 4,
   "id": "a3a16132",
   "metadata": {},
   "outputs": [
    {
     "name": "stdout",
     "output_type": "stream",
     "text": [
      "Chi-squared Test Results: 260.71702016732104\n",
      "------------------------\n",
      "p-value: 1.1973570627755645e-58\n",
      "------------------------\n",
      "Degrees of Freedom: 1\n",
      "------------------------\n",
      "Expected Frequencies:\n",
      " [[193.47474747 120.52525253]\n",
      " [355.52525253 221.47474747]]\n"
     ]
    }
   ],
   "source": [
    "from scipy.stats import chi2_contingency\n",
    "chi2, p, dof, expected = chi2_contingency(contingency_table)\n",
    "\n",
    "# print the results\n",
    "print(\"Chi-squared Test Results:\",chi2)\n",
    "print(\"------------------------\")\n",
    "print('p-value:', p)\n",
    "print(\"------------------------\")\n",
    "print(\"Degrees of Freedom:\", dof)\n",
    "print(\"------------------------\")\n",
    "print(\"Expected Frequencies:\\n\", expected)\n"
   ]
  },
  {
   "cell_type": "markdown",
   "id": "e9cf0c36",
   "metadata": {},
   "source": [
    "As the P-value is this test is `p-value: 1.1973570627755645e-58` which is far less than `0.05`, we reject the null hypothesis."
   ]
  },
  {
   "cell_type": "markdown",
   "id": "5685ba7f",
   "metadata": {},
   "source": [
    "## 2. Normal Distribution Test"
   ]
  },
  {
   "cell_type": "markdown",
   "id": "52149ea0",
   "metadata": {},
   "source": [
    "For check the normal distributionn we check the numerical data. And many ways to check the normal distribution so we use the garphical method"
   ]
  },
  {
   "cell_type": "code",
   "execution_count": 5,
   "id": "088efb3c",
   "metadata": {},
   "outputs": [
    {
     "data": {
      "text/html": [
       "<div>\n",
       "<style scoped>\n",
       "    .dataframe tbody tr th:only-of-type {\n",
       "        vertical-align: middle;\n",
       "    }\n",
       "\n",
       "    .dataframe tbody tr th {\n",
       "        vertical-align: top;\n",
       "    }\n",
       "\n",
       "    .dataframe thead th {\n",
       "        text-align: right;\n",
       "    }\n",
       "</style>\n",
       "<table border=\"1\" class=\"dataframe\">\n",
       "  <thead>\n",
       "    <tr style=\"text-align: right;\">\n",
       "      <th></th>\n",
       "      <th>survived</th>\n",
       "      <th>pclass</th>\n",
       "      <th>sex</th>\n",
       "      <th>age</th>\n",
       "      <th>sibsp</th>\n",
       "      <th>parch</th>\n",
       "      <th>fare</th>\n",
       "      <th>embarked</th>\n",
       "      <th>class</th>\n",
       "      <th>who</th>\n",
       "      <th>adult_male</th>\n",
       "      <th>deck</th>\n",
       "      <th>embark_town</th>\n",
       "      <th>alive</th>\n",
       "      <th>alone</th>\n",
       "    </tr>\n",
       "  </thead>\n",
       "  <tbody>\n",
       "    <tr>\n",
       "      <th>0</th>\n",
       "      <td>0</td>\n",
       "      <td>3</td>\n",
       "      <td>male</td>\n",
       "      <td>22.0</td>\n",
       "      <td>1</td>\n",
       "      <td>0</td>\n",
       "      <td>7.2500</td>\n",
       "      <td>S</td>\n",
       "      <td>Third</td>\n",
       "      <td>man</td>\n",
       "      <td>True</td>\n",
       "      <td>NaN</td>\n",
       "      <td>Southampton</td>\n",
       "      <td>no</td>\n",
       "      <td>False</td>\n",
       "    </tr>\n",
       "    <tr>\n",
       "      <th>1</th>\n",
       "      <td>1</td>\n",
       "      <td>1</td>\n",
       "      <td>female</td>\n",
       "      <td>38.0</td>\n",
       "      <td>1</td>\n",
       "      <td>0</td>\n",
       "      <td>71.2833</td>\n",
       "      <td>C</td>\n",
       "      <td>First</td>\n",
       "      <td>woman</td>\n",
       "      <td>False</td>\n",
       "      <td>C</td>\n",
       "      <td>Cherbourg</td>\n",
       "      <td>yes</td>\n",
       "      <td>False</td>\n",
       "    </tr>\n",
       "    <tr>\n",
       "      <th>2</th>\n",
       "      <td>1</td>\n",
       "      <td>3</td>\n",
       "      <td>female</td>\n",
       "      <td>26.0</td>\n",
       "      <td>0</td>\n",
       "      <td>0</td>\n",
       "      <td>7.9250</td>\n",
       "      <td>S</td>\n",
       "      <td>Third</td>\n",
       "      <td>woman</td>\n",
       "      <td>False</td>\n",
       "      <td>NaN</td>\n",
       "      <td>Southampton</td>\n",
       "      <td>yes</td>\n",
       "      <td>True</td>\n",
       "    </tr>\n",
       "    <tr>\n",
       "      <th>3</th>\n",
       "      <td>1</td>\n",
       "      <td>1</td>\n",
       "      <td>female</td>\n",
       "      <td>35.0</td>\n",
       "      <td>1</td>\n",
       "      <td>0</td>\n",
       "      <td>53.1000</td>\n",
       "      <td>S</td>\n",
       "      <td>First</td>\n",
       "      <td>woman</td>\n",
       "      <td>False</td>\n",
       "      <td>C</td>\n",
       "      <td>Southampton</td>\n",
       "      <td>yes</td>\n",
       "      <td>False</td>\n",
       "    </tr>\n",
       "    <tr>\n",
       "      <th>4</th>\n",
       "      <td>0</td>\n",
       "      <td>3</td>\n",
       "      <td>male</td>\n",
       "      <td>35.0</td>\n",
       "      <td>0</td>\n",
       "      <td>0</td>\n",
       "      <td>8.0500</td>\n",
       "      <td>S</td>\n",
       "      <td>Third</td>\n",
       "      <td>man</td>\n",
       "      <td>True</td>\n",
       "      <td>NaN</td>\n",
       "      <td>Southampton</td>\n",
       "      <td>no</td>\n",
       "      <td>True</td>\n",
       "    </tr>\n",
       "  </tbody>\n",
       "</table>\n",
       "</div>"
      ],
      "text/plain": [
       "   survived  pclass     sex   age  sibsp  parch     fare embarked  class  \\\n",
       "0         0       3    male  22.0      1      0   7.2500        S  Third   \n",
       "1         1       1  female  38.0      1      0  71.2833        C  First   \n",
       "2         1       3  female  26.0      0      0   7.9250        S  Third   \n",
       "3         1       1  female  35.0      1      0  53.1000        S  First   \n",
       "4         0       3    male  35.0      0      0   8.0500        S  Third   \n",
       "\n",
       "     who  adult_male deck  embark_town alive  alone  \n",
       "0    man        True  NaN  Southampton    no  False  \n",
       "1  woman       False    C    Cherbourg   yes  False  \n",
       "2  woman       False  NaN  Southampton   yes   True  \n",
       "3  woman       False    C  Southampton   yes  False  \n",
       "4    man        True  NaN  Southampton    no   True  "
      ]
     },
     "execution_count": 5,
     "metadata": {},
     "output_type": "execute_result"
    }
   ],
   "source": [
    "df.head()"
   ]
  },
  {
   "cell_type": "code",
   "execution_count": 6,
   "id": "6fb3afaa",
   "metadata": {},
   "outputs": [
    {
     "data": {
      "text/plain": [
       "<Axes: xlabel='age', ylabel='Count'>"
      ]
     },
     "execution_count": 6,
     "metadata": {},
     "output_type": "execute_result"
    },
    {
     "data": {
      "image/png": "[encoded data removed]",
      "text/plain": [
       "<Figure size 640x480 with 1 Axes>"
      ]
     },
     "metadata": {},
     "output_type": "display_data"
    }
   ],
   "source": [
    "# garphical method\n",
    "sns.histplot(data=df, x='age', hue= 'who', kde=True)"
   ]
  },
  {
   "cell_type": "markdown",
   "id": "29322081",
   "metadata": {},
   "source": [
    "#### Shabiro wilk Test on Normal Distribution Gaussian Distribution\n",
    "#### `Null Hypothesis:` The data is normaly distributed\n",
    "#### `Alternative Hypothesis:` The data is not distributed"
   ]
  },
  {
   "cell_type": "code",
   "execution_count": 7,
   "id": "89cffcdd",
   "metadata": {},
   "outputs": [
    {
     "name": "stdout",
     "output_type": "stream",
     "text": [
      "p-value: nan, Sample does not look Gaussian/Normally Distributed (reject H0)\n"
     ]
    }
   ],
   "source": [
    "from scipy import stats\n",
    "\n",
    "# Example usage\n",
    "statistic, p = stats.shapiro(df['age'])\n",
    "# print the results using if else\n",
    "if p > 0.05:\n",
    "    print(f'p-value: {p}, Sample looks Gaussian/Normally Distributed (fail to reject H0)')\n",
    "else:\n",
    "    print(f'p-value: {p}, Sample does not look Gaussian/Normally Distributed (reject H0)')\n"
   ]
  },
  {
   "cell_type": "code",
   "execution_count": 8,
   "id": "7d2d51bf",
   "metadata": {},
   "outputs": [
    {
     "name": "stdout",
     "output_type": "stream",
     "text": [
      "p-value: 1.0840444395829658e-43, Sample does not look Gaussian/Normally Distributed (reject H0)\n"
     ]
    }
   ],
   "source": [
    "# shapiro Wilk Test \n",
    "statistic, p = stats.shapiro(df['fare'])\n",
    "# print the results using if else\n",
    "if p > 0.05:\n",
    "    print(f'p-value: {p}, Sample looks Gaussian/Normally Distributed (fail to reject H0)')\n",
    "else:\n",
    "    print(f'p-value: {p}, Sample does not look Gaussian/Normally Distributed (reject H0)')\n",
    "\n"
   ]
  },
  {
   "cell_type": "code",
   "execution_count": 9,
   "id": "0f3e2400",
   "metadata": {},
   "outputs": [
    {
     "data": {
      "text/plain": [
       "<Axes: xlabel='fare', ylabel='Count'>"
      ]
     },
     "execution_count": 9,
     "metadata": {},
     "output_type": "execute_result"
    },
    {
     "data": {
      "image/png": "[encoded data removed]",
      "text/plain": [
       "<Figure size 640x480 with 1 Axes>"
      ]
     },
     "metadata": {},
     "output_type": "display_data"
    }
   ],
   "source": [
    "sns.histplot(data=df, x='fare', kde=True)"
   ]
  },
  {
   "cell_type": "markdown",
   "id": "5989ef54",
   "metadata": {},
   "source": [
    "---------------------------"
   ]
  },
  {
   "cell_type": "markdown",
   "id": "503676ff",
   "metadata": {},
   "source": [
    "## t-Test"
   ]
  },
  {
   "cell_type": "markdown",
   "id": "8f8afdbd",
   "metadata": {},
   "source": [
    "Choosing between a Z-test and a T-test for hypothesis testing depends primarily on two factors: the sample size and whether the population standard deviation is known."
   ]
  },
  {
   "cell_type": "markdown",
   "id": "515cdf70",
   "metadata": {},
   "source": [
    "## Z-test:\n",
    "When to Use:\n",
    "\n",
    "The population standard deviation is known.\n",
    "The sample size is large (commonly, n ≥ 30). With large samples, the sample standard deviation approximates the population standard deviation.\n",
    "For proportions (e.g., testing the proportion of success in a sample against a known population proportion).\n",
    "Characteristics:\n",
    "\n",
    "Based on the Z-distribution, which is a normal distribution as n becomes large.\n",
    "More commonly used in quality control and standardization processes.\n",
    "## T-test:\n",
    "When to Use:\n",
    "\n",
    "The population standard deviation is unknown.\n",
    "The sample size is small (typically, n < 30).\n",
    "Suitable for cases where the data is approximately normally distributed, especially in small samples.\n",
    "Characteristics:\n",
    "\n",
    "Based on the T-distribution, which accounts for the additional uncertainty due to the estimation of the population standard deviation from the sample.\n",
    "T-distribution becomes closer to the normal distribution as the sample size increases."
   ]
  },
  {
   "cell_type": "markdown",
   "id": "56ffdba5",
   "metadata": {},
   "source": [
    "## General Guidelines:\n",
    "**Large Samples:** With large sample sizes, the T-test and Z-test will give similar results. This is because the T-distribution approaches the normal distribution as the sample size increases.\n",
    "\n",
    "**Small Samples:** When the sample size is small and the population standard deviation is unknown, the T-test is generally the appropriate choice due to its ability to account for the uncertainty in the standard deviation estimate.\n",
    "Unknown Population Standard Deviation: Even with large samples, if the population standard deviation is unknown and cannot be reliably estimated, a T-test is usually preferred.\n",
    "\n",
    "**Conclusion:**\n",
    "Use the Z-test for large sample sizes or when the population standard deviation is known.\n",
    "Use the T-test for small sample sizes or when the population standard deviation is unknown.\n",
    "In practice, the T-test is more commonly used in many research scenarios due to the rarity of knowing the population standard deviation and often dealing with smaller sample sizes.\n",
    "\n",
    "Ham is notebook main t-test dekhen gay."
   ]
  },
  {
   "cell_type": "markdown",
   "id": "d77df30c",
   "metadata": {},
   "source": [
    "1. One sample T-Test"
   ]
  },
  {
   "cell_type": "code",
   "execution_count": 17,
   "id": "9a66b943",
   "metadata": {},
   "outputs": [
    {
     "name": "stdout",
     "output_type": "stream",
     "text": [
      "t-statistic: -1.414213562373095\n",
      "p-value: 0.23019964108049873\n",
      "p-value: 0.23019964108049873, Sample mean is equal to population mean (fail to reject H0)\n"
     ]
    }
   ],
   "source": [
    "import scipy.stats as stats\n",
    "\n",
    "# sample data\n",
    "x = [1, 2, 3, 4, 5]\n",
    "\n",
    "# known population mean\n",
    "mu = 4\n",
    "\n",
    "# perform one sample t-test\n",
    "t_statistic, p = stats.ttest_1samp(x, mu)\n",
    "\n",
    "# print results\n",
    "print('t-statistic:', t_statistic)\n",
    "print('p-value:', p)\n",
    "\n",
    "# print the results using if else\n",
    "if p > 0.05:\n",
    "    print(f'p-value: {p}, Sample mean is equal to population mean (fail to reject H0)')\n",
    "else:\n",
    "    print(f'p-value: {p}, Sample mean is not equal to population mean (reject H0)')\n"
   ]
  },
  {
   "cell_type": "markdown",
   "id": "b9873f81",
   "metadata": {},
   "source": [
    "2. Two-Sample T-Test(Independent)"
   ]
  },
  {
   "cell_type": "code",
   "execution_count": 11,
   "id": "ec6e6802",
   "metadata": {},
   "outputs": [
    {
     "name": "stdout",
     "output_type": "stream",
     "text": [
      "T-statistic: 1.8482055087756457\n",
      "P-value: 0.10175647371829193\n",
      "p-value: 0.10175647371829193, group1 mean is equal to group2 mean (fail to reject H0)\n"
     ]
    }
   ],
   "source": [
    "import scipy.stats as stats\n",
    "\n",
    "# sample data\n",
    "group1 =[2.3,3.4,4.5,2.3,3.4]\n",
    "group2 = [1.2,2.2,3.2,2.2,2.3]\n",
    "\n",
    "#perform independent two sample t-test\n",
    "t_statistic, p = stats.ttest_ind(group1, group2)\n",
    "# print the results\n",
    "print(\"T-statistic:\", t_statistic)\n",
    "print(\"P-value:\", p)\n",
    "\n",
    "if p > 0.05:\n",
    "    print(f'p-value: {p}, group1 mean is equal to group2 mean (fail to reject H0)')\n",
    "else:\n",
    "    print(f'p-value: {p}, group1 mean is not equal to group2 mean (reject H0)')"
   ]
  },
  {
   "cell_type": "markdown",
   "id": "2e77ddb0",
   "metadata": {},
   "source": [
    "3. Paired sample T-Test"
   ]
  },
  {
   "cell_type": "code",
   "execution_count": 12,
   "id": "b6a8aa0f",
   "metadata": {},
   "outputs": [
    {
     "name": "stdout",
     "output_type": "stream",
     "text": [
      "T-statistic: -inf\n",
      "P-value: 0.0\n",
      "p-value: 0.0, before mean is not equal to after mean (reject H0)\n"
     ]
    },
    {
     "name": "stderr",
     "output_type": "stream",
     "text": [
      "c:\\Users\\ibwr\\anaconda3\\Lib\\site-packages\\scipy\\stats\\_axis_nan_policy.py:531: RuntimeWarning: Precision loss occurred in moment calculation due to catastrophic cancellation. This occurs when the data are nearly identical. Results may be unreliable.\n",
      "  res = hypotest_fun_out(*samples, **kwds)\n"
     ]
    }
   ],
   "source": [
    "# sample data\n",
    "before  = [2,3,4,5,6]\n",
    "after = [3,4,5,6,7]\n",
    "# perform paired t-test\n",
    "t_statistic, p = stats.ttest_rel(before, after)\n",
    "# print the results\n",
    "print(\"T-statistic:\", t_statistic)\n",
    "print(\"P-value:\", p)\n",
    "if p > 0.05:\n",
    "    print(f'p-value: {p}, before mean is equal to after mean (fail to reject H0)')\n",
    "else:\n",
    "    print(f'p-value: {p}, before mean is not equal to after mean (reject H0)')"
   ]
  },
  {
   "cell_type": "markdown",
   "id": "87761cba",
   "metadata": {},
   "source": [
    "## Test for Homogeniety"
   ]
  },
  {
   "cell_type": "markdown",
   "id": "be08041b",
   "metadata": {},
   "source": [
    "1. Levene's Test\n",
    "   \n",
    "This test are use to check the variance in two group of samples    "
   ]
  },
  {
   "cell_type": "code",
   "execution_count": 14,
   "id": "12d4bec5",
   "metadata": {},
   "outputs": [
    {
     "name": "stdout",
     "output_type": "stream",
     "text": [
      "w-statistic: 0.44651162790697696\n",
      "p-value: 0.5228039334796065\n",
      "p-value: 0.5228039334796065, Variances are equal (fail to reject H0)\n"
     ]
    }
   ],
   "source": [
    "import scipy.stats as stats\n",
    "\n",
    "# Sample data\n",
    "group1 = [2.3, 3.4, 4.5, 2.3, 3.4]\n",
    "group2 = [1.2, 2.2, 3.2, 2.2, 2.3]\n",
    "\n",
    "# Perform Levene's Test\n",
    "w_stat, p_val = stats.levene(group1, group2)\n",
    "\n",
    "print(\"w-statistic:\", w_stat)\n",
    "print(\"p-value:\", p_val)\n",
    "\n",
    "# print the results based on if else conditions\n",
    "if p_val > 0.05:\n",
    "    print(f'p-value: {p_val}, Variances are equal (fail to reject H0)')\n",
    "else:\n",
    "    print(f'p-value: {p_val}, Variances are not equal (reject H0)')"
   ]
  },
  {
   "cell_type": "markdown",
   "id": "5dfb5db0",
   "metadata": {},
   "source": [
    "2. Bartlett's Test"
   ]
  },
  {
   "cell_type": "code",
   "execution_count": 15,
   "id": "b6c3287c",
   "metadata": {},
   "outputs": [
    {
     "name": "stdout",
     "output_type": "stream",
     "text": [
      "t-statistic: 0.24050679805097827\n",
      "p-value: 0.6238403179343277\n",
      "p-value: 0.6238403179343277, Variances are equal (fail to reject H0)\n"
     ]
    }
   ],
   "source": [
    "import scipy.stats as stats\n",
    "\n",
    "# Sample data\n",
    "group1 = [2.3, 3.4, 4.5, 2.3, 3.4]\n",
    "group2 = [1.2, 2.2, 3.2, 2.2, 2.3]\n",
    "\n",
    "# Perform Bartlett's Test\n",
    "t_stat, p_val = stats.bartlett(group1, group2)\n",
    "\n",
    "print(\"t-statistic:\", t_stat)\n",
    "print(\"p-value:\", p_val)\n",
    "\n",
    "# print the results using if else conditions\n",
    "if p_val > 0.05:\n",
    "    print(f'p-value: {p_val}, Variances are equal (fail to reject H0)')\n",
    "else:\n",
    "    print(f'p-value: {p_val}, Variances are not equal (reject H0)')"
   ]
  },
  {
   "cell_type": "markdown",
   "id": "9ffcc472",
   "metadata": {},
   "source": [
    "## ANOVA"
   ]
  },
  {
   "cell_type": "markdown",
   "id": "78bb8c1d",
   "metadata": {},
   "source": [
    "Analysis of Variance\n",
    "\n",
    "### 1. ONE-way ANOVA"
   ]
  },
  {
   "cell_type": "code",
   "execution_count": 16,
   "id": "77e851ef",
   "metadata": {},
   "outputs": [
    {
     "name": "stdout",
     "output_type": "stream",
     "text": [
      "p-value: 4.279979561060641e-13, Means are not equal (reject H0)\n"
     ]
    }
   ],
   "source": [
    "\n",
    "import scipy.stats as stats\n",
    "\n",
    "# Sample data\n",
    "\n",
    "a = [2.3, 3.4, 4.5, 2.3, 3.4]\n",
    "b = [11.2, 12.2, 13.2, 12.2, 12.3]\n",
    "c = [22.3, 23.4, 24.5, 22.3, 23.4]\n",
    "\n",
    "# perform one-way ANOVA\n",
    "f_stat, p_val = stats.f_oneway(a, b, c)\n",
    "\n",
    "# print the results base on if else conditions\n",
    "if p_val > 0.05:\n",
    "    print(f'p-value: {p_val}, Means are equal (fail to reject H0)')\n",
    "else:\n",
    "    print(f'p-value: {p_val}, Means are not equal (reject H0)')"
   ]
  }
 ],
 "metadata": {
  "kernelspec": {
   "display_name": "base",
   "language": "python",
   "name": "python3"
  },
  "language_info": {
   "codemirror_mode": {
    "name": "ipython",
    "version": 3
   },
   "file_extension": ".py",
   "mimetype": "text/x-python",
   "name": "python",
   "nbconvert_exporter": "python",
   "pygments_lexer": "ipython3",
   "version": "3.12.4"
  }
 },
 "nbformat": 4,
 "nbformat_minor": 5
}
